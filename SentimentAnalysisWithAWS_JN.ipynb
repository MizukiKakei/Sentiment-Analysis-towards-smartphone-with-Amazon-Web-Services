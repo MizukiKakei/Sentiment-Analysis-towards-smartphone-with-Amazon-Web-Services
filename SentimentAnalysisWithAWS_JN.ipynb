{
 "cells": [
  {
   "cell_type": "code",
   "execution_count": 1,
   "metadata": {},
   "outputs": [
    {
     "name": "stderr",
     "output_type": "stream",
     "text": [
      "Loading required package: lattice\n",
      "Loading required package: ggplot2\n",
      "Registered S3 methods overwritten by 'ggplot2':\n",
      "  method         from \n",
      "  [.quosures     rlang\n",
      "  c.quosures     rlang\n",
      "  print.quosures rlang\n",
      "Warning message:\n",
      "\"package 'doParallel' was built under R version 3.6.1\"Loading required package: foreach\n",
      "Loading required package: iterators\n",
      "Loading required package: parallel\n",
      "corrplot 0.84 loaded\n",
      "\n",
      "Attaching package: 'plotly'\n",
      "\n",
      "The following objects are masked from 'package:plyr':\n",
      "\n",
      "    arrange, mutate, rename, summarise\n",
      "\n",
      "The following object is masked from 'package:ggplot2':\n",
      "\n",
      "    last_plot\n",
      "\n",
      "The following object is masked from 'package:stats':\n",
      "\n",
      "    filter\n",
      "\n",
      "The following object is masked from 'package:graphics':\n",
      "\n",
      "    layout\n",
      "\n",
      "Warning message:\n",
      "\"package 'cowplot' was built under R version 3.6.1\"\n",
      "********************************************************\n",
      "Note: As of version 1.0.0, cowplot does not change the\n",
      "  default ggplot2 theme anymore. To recover the previous\n",
      "  behavior, execute:\n",
      "  theme_set(theme_cowplot())\n",
      "********************************************************\n",
      "\n"
     ]
    }
   ],
   "source": [
    "# Calling Packages ####\n",
    "library(readr)                                                                       # Reading data set\n",
    "library(caret)                                                                       # Prediction\n",
    "library(doParallel)                                                                  # Providing a parallel backend\n",
    "library(corrplot)                                                                    # Correlation matrix format\n",
    "library(C50)                                                                         # C5.0 algorythm\n",
    "library(inum)                                                                        # representation of vectors and intervals\n",
    "library(plyr)                                                                        # Breaking big problems down into managable pieces and bringing back together\n",
    "library(ggplot2)                                                                     # Visualization\n",
    "library(plotly)                                                                      # Visualization\n",
    "library(cowplot)                                                            # Plotting"
   ]
  },
  {
   "cell_type": "markdown",
   "metadata": {},
   "source": [
    "## Sentiment Analysis towards Iphone "
   ]
  },
  {
   "cell_type": "code",
   "execution_count": 4,
   "metadata": {},
   "outputs": [],
   "source": [
    "# Reading Small Matrix (Train data) for iphone\n",
    "RawData_Iphone <- read.csv(\"C:/Users/spxt6/OneDrive/Dokumente/R_projects/Test.Proj/AWS/iphone_smallmatrix_labeled_8d.csv\", \n",
    "                           TRUE, \n",
    "                           sep =\",\"\n",
    "                          )\n",
    "Iphone_Train <- RawData_Iphone"
   ]
  },
  {
   "cell_type": "code",
   "execution_count": 58,
   "metadata": {},
   "outputs": [
    {
     "data": {
      "text/html": [
       "<table>\n",
       "<thead><tr><th scope=col>iphone</th><th scope=col>samsunggalaxy</th><th scope=col>sonyxperia</th><th scope=col>nokialumina</th><th scope=col>htcphone</th><th scope=col>ios</th><th scope=col>googleandroid</th><th scope=col>iphonecampos</th><th scope=col>samsungcampos</th><th scope=col>sonycampos</th><th scope=col>...</th><th scope=col>sonyperunc</th><th scope=col>nokiaperunc</th><th scope=col>htcperunc</th><th scope=col>iosperpos</th><th scope=col>googleperpos</th><th scope=col>iosperneg</th><th scope=col>googleperneg</th><th scope=col>iosperunc</th><th scope=col>googleperunc</th><th scope=col>iphonesentiment</th></tr></thead>\n",
       "<tbody>\n",
       "\t<tr><td> 1 </td><td>0  </td><td>0  </td><td>0  </td><td>0  </td><td>0  </td><td>0  </td><td>0  </td><td>0  </td><td>0  </td><td>...</td><td>0  </td><td>0  </td><td>0  </td><td>0  </td><td>0  </td><td>0  </td><td>0  </td><td>0  </td><td>0  </td><td>0  </td></tr>\n",
       "\t<tr><td> 1 </td><td>0  </td><td>0  </td><td>0  </td><td>0  </td><td>0  </td><td>0  </td><td>0  </td><td>0  </td><td>0  </td><td>...</td><td>0  </td><td>0  </td><td>0  </td><td>0  </td><td>0  </td><td>0  </td><td>0  </td><td>0  </td><td>0  </td><td>0  </td></tr>\n",
       "\t<tr><td> 1 </td><td>0  </td><td>0  </td><td>0  </td><td>0  </td><td>0  </td><td>0  </td><td>0  </td><td>0  </td><td>0  </td><td>...</td><td>0  </td><td>0  </td><td>0  </td><td>0  </td><td>0  </td><td>0  </td><td>0  </td><td>0  </td><td>0  </td><td>0  </td></tr>\n",
       "\t<tr><td> 1 </td><td>0  </td><td>0  </td><td>0  </td><td>0  </td><td>0  </td><td>0  </td><td>0  </td><td>0  </td><td>0  </td><td>...</td><td>0  </td><td>0  </td><td>0  </td><td>0  </td><td>0  </td><td>0  </td><td>0  </td><td>0  </td><td>0  </td><td>0  </td></tr>\n",
       "\t<tr><td> 1 </td><td>0  </td><td>0  </td><td>0  </td><td>0  </td><td>0  </td><td>0  </td><td>0  </td><td>0  </td><td>0  </td><td>...</td><td>0  </td><td>0  </td><td>0  </td><td>0  </td><td>0  </td><td>0  </td><td>0  </td><td>0  </td><td>0  </td><td>0  </td></tr>\n",
       "\t<tr><td>41 </td><td>0  </td><td>0  </td><td>0  </td><td>0  </td><td>6  </td><td>0  </td><td>1  </td><td>0  </td><td>0  </td><td>...</td><td>0  </td><td>0  </td><td>0  </td><td>0  </td><td>0  </td><td>0  </td><td>0  </td><td>0  </td><td>0  </td><td>4  </td></tr>\n",
       "</tbody>\n",
       "</table>\n"
      ],
      "text/latex": [
       "\\begin{tabular}{r|lllllllllllllllllllllllllllllllllllllllllllllllllllllllllll}\n",
       " iphone & samsunggalaxy & sonyxperia & nokialumina & htcphone & ios & googleandroid & iphonecampos & samsungcampos & sonycampos & ... & sonyperunc & nokiaperunc & htcperunc & iosperpos & googleperpos & iosperneg & googleperneg & iosperunc & googleperunc & iphonesentiment\\\\\n",
       "\\hline\n",
       "\t  1  & 0   & 0   & 0   & 0   & 0   & 0   & 0   & 0   & 0   & ... & 0   & 0   & 0   & 0   & 0   & 0   & 0   & 0   & 0   & 0  \\\\\n",
       "\t  1  & 0   & 0   & 0   & 0   & 0   & 0   & 0   & 0   & 0   & ... & 0   & 0   & 0   & 0   & 0   & 0   & 0   & 0   & 0   & 0  \\\\\n",
       "\t  1  & 0   & 0   & 0   & 0   & 0   & 0   & 0   & 0   & 0   & ... & 0   & 0   & 0   & 0   & 0   & 0   & 0   & 0   & 0   & 0  \\\\\n",
       "\t  1  & 0   & 0   & 0   & 0   & 0   & 0   & 0   & 0   & 0   & ... & 0   & 0   & 0   & 0   & 0   & 0   & 0   & 0   & 0   & 0  \\\\\n",
       "\t  1  & 0   & 0   & 0   & 0   & 0   & 0   & 0   & 0   & 0   & ... & 0   & 0   & 0   & 0   & 0   & 0   & 0   & 0   & 0   & 0  \\\\\n",
       "\t 41  & 0   & 0   & 0   & 0   & 6   & 0   & 1   & 0   & 0   & ... & 0   & 0   & 0   & 0   & 0   & 0   & 0   & 0   & 0   & 4  \\\\\n",
       "\\end{tabular}\n"
      ],
      "text/markdown": [
       "\n",
       "| iphone | samsunggalaxy | sonyxperia | nokialumina | htcphone | ios | googleandroid | iphonecampos | samsungcampos | sonycampos | ... | sonyperunc | nokiaperunc | htcperunc | iosperpos | googleperpos | iosperneg | googleperneg | iosperunc | googleperunc | iphonesentiment |\n",
       "|---|---|---|---|---|---|---|---|---|---|---|---|---|---|---|---|---|---|---|---|---|\n",
       "|  1  | 0   | 0   | 0   | 0   | 0   | 0   | 0   | 0   | 0   | ... | 0   | 0   | 0   | 0   | 0   | 0   | 0   | 0   | 0   | 0   |\n",
       "|  1  | 0   | 0   | 0   | 0   | 0   | 0   | 0   | 0   | 0   | ... | 0   | 0   | 0   | 0   | 0   | 0   | 0   | 0   | 0   | 0   |\n",
       "|  1  | 0   | 0   | 0   | 0   | 0   | 0   | 0   | 0   | 0   | ... | 0   | 0   | 0   | 0   | 0   | 0   | 0   | 0   | 0   | 0   |\n",
       "|  1  | 0   | 0   | 0   | 0   | 0   | 0   | 0   | 0   | 0   | ... | 0   | 0   | 0   | 0   | 0   | 0   | 0   | 0   | 0   | 0   |\n",
       "|  1  | 0   | 0   | 0   | 0   | 0   | 0   | 0   | 0   | 0   | ... | 0   | 0   | 0   | 0   | 0   | 0   | 0   | 0   | 0   | 0   |\n",
       "| 41  | 0   | 0   | 0   | 0   | 6   | 0   | 1   | 0   | 0   | ... | 0   | 0   | 0   | 0   | 0   | 0   | 0   | 0   | 0   | 4   |\n",
       "\n"
      ],
      "text/plain": [
       "  iphone samsunggalaxy sonyxperia nokialumina htcphone ios googleandroid\n",
       "1  1     0             0          0           0        0   0            \n",
       "2  1     0             0          0           0        0   0            \n",
       "3  1     0             0          0           0        0   0            \n",
       "4  1     0             0          0           0        0   0            \n",
       "5  1     0             0          0           0        0   0            \n",
       "6 41     0             0          0           0        6   0            \n",
       "  iphonecampos samsungcampos sonycampos ... sonyperunc nokiaperunc htcperunc\n",
       "1 0            0             0          ... 0          0           0        \n",
       "2 0            0             0          ... 0          0           0        \n",
       "3 0            0             0          ... 0          0           0        \n",
       "4 0            0             0          ... 0          0           0        \n",
       "5 0            0             0          ... 0          0           0        \n",
       "6 1            0             0          ... 0          0           0        \n",
       "  iosperpos googleperpos iosperneg googleperneg iosperunc googleperunc\n",
       "1 0         0            0         0            0         0           \n",
       "2 0         0            0         0            0         0           \n",
       "3 0         0            0         0            0         0           \n",
       "4 0         0            0         0            0         0           \n",
       "5 0         0            0         0            0         0           \n",
       "6 0         0            0         0            0         0           \n",
       "  iphonesentiment\n",
       "1 0              \n",
       "2 0              \n",
       "3 0              \n",
       "4 0              \n",
       "5 0              \n",
       "6 4              "
      ]
     },
     "metadata": {},
     "output_type": "display_data"
    }
   ],
   "source": [
    "head(Iphone_Train)"
   ]
  },
  {
   "cell_type": "code",
   "execution_count": 5,
   "metadata": {},
   "outputs": [],
   "source": [
    "# Reading Large Matrix (Validation data) ####\n",
    "RawData_LargeMatrix <- read.csv(\"C:/Users/spxt6/OneDrive/Dokumente/R_projects/Test.Proj/AWS/LargeMatrix.csv\", \n",
    "                                TRUE, \n",
    "                                sep =\",\"\n",
    "                               )\n",
    "LargeMatrix <- RawData_LargeMatrix"
   ]
  },
  {
   "cell_type": "code",
   "execution_count": 59,
   "metadata": {},
   "outputs": [
    {
     "data": {
      "text/html": [
       "<table>\n",
       "<thead><tr><th scope=col>id</th><th scope=col>iphone</th><th scope=col>samsunggalaxy</th><th scope=col>sonyxperia</th><th scope=col>nokialumina</th><th scope=col>htcphone</th><th scope=col>ios</th><th scope=col>googleandroid</th><th scope=col>iphonecampos</th><th scope=col>samsungcampos</th><th scope=col>...</th><th scope=col>samsungperunc</th><th scope=col>sonyperunc</th><th scope=col>nokiaperunc</th><th scope=col>htcperunc</th><th scope=col>iosperpos</th><th scope=col>googleperpos</th><th scope=col>iosperneg</th><th scope=col>googleperneg</th><th scope=col>iosperunc</th><th scope=col>googleperunc</th></tr></thead>\n",
       "<tbody>\n",
       "\t<tr><td>0  </td><td>0  </td><td>0  </td><td>0  </td><td>0  </td><td>0  </td><td>1  </td><td>0  </td><td>0  </td><td>0  </td><td>...</td><td>0  </td><td>0  </td><td>0  </td><td>0  </td><td>0  </td><td>0  </td><td>0  </td><td>0  </td><td>0  </td><td>0  </td></tr>\n",
       "\t<tr><td>1  </td><td>0  </td><td>0  </td><td>0  </td><td>0  </td><td>0  </td><td>1  </td><td>0  </td><td>0  </td><td>0  </td><td>...</td><td>0  </td><td>0  </td><td>0  </td><td>0  </td><td>0  </td><td>0  </td><td>0  </td><td>0  </td><td>0  </td><td>0  </td></tr>\n",
       "\t<tr><td>2  </td><td>0  </td><td>0  </td><td>0  </td><td>0  </td><td>0  </td><td>0  </td><td>0  </td><td>0  </td><td>0  </td><td>...</td><td>0  </td><td>0  </td><td>0  </td><td>0  </td><td>1  </td><td>1  </td><td>0  </td><td>0  </td><td>0  </td><td>0  </td></tr>\n",
       "\t<tr><td>3  </td><td>0  </td><td>0  </td><td>0  </td><td>0  </td><td>0  </td><td>0  </td><td>0  </td><td>0  </td><td>0  </td><td>...</td><td>0  </td><td>0  </td><td>0  </td><td>0  </td><td>0  </td><td>0  </td><td>0  </td><td>0  </td><td>0  </td><td>0  </td></tr>\n",
       "\t<tr><td>4  </td><td>0  </td><td>0  </td><td>0  </td><td>0  </td><td>0  </td><td>0  </td><td>0  </td><td>0  </td><td>0  </td><td>...</td><td>0  </td><td>0  </td><td>0  </td><td>0  </td><td>0  </td><td>0  </td><td>0  </td><td>0  </td><td>1  </td><td>0  </td></tr>\n",
       "\t<tr><td>5  </td><td>0  </td><td>0  </td><td>0  </td><td>0  </td><td>0  </td><td>0  </td><td>0  </td><td>0  </td><td>0  </td><td>...</td><td>0  </td><td>0  </td><td>0  </td><td>0  </td><td>0  </td><td>0  </td><td>3  </td><td>0  </td><td>0  </td><td>0  </td></tr>\n",
       "</tbody>\n",
       "</table>\n"
      ],
      "text/latex": [
       "\\begin{tabular}{r|lllllllllllllllllllllllllllllllllllllllllllllllllllllllllll}\n",
       " id & iphone & samsunggalaxy & sonyxperia & nokialumina & htcphone & ios & googleandroid & iphonecampos & samsungcampos & ... & samsungperunc & sonyperunc & nokiaperunc & htcperunc & iosperpos & googleperpos & iosperneg & googleperneg & iosperunc & googleperunc\\\\\n",
       "\\hline\n",
       "\t 0   & 0   & 0   & 0   & 0   & 0   & 1   & 0   & 0   & 0   & ... & 0   & 0   & 0   & 0   & 0   & 0   & 0   & 0   & 0   & 0  \\\\\n",
       "\t 1   & 0   & 0   & 0   & 0   & 0   & 1   & 0   & 0   & 0   & ... & 0   & 0   & 0   & 0   & 0   & 0   & 0   & 0   & 0   & 0  \\\\\n",
       "\t 2   & 0   & 0   & 0   & 0   & 0   & 0   & 0   & 0   & 0   & ... & 0   & 0   & 0   & 0   & 1   & 1   & 0   & 0   & 0   & 0  \\\\\n",
       "\t 3   & 0   & 0   & 0   & 0   & 0   & 0   & 0   & 0   & 0   & ... & 0   & 0   & 0   & 0   & 0   & 0   & 0   & 0   & 0   & 0  \\\\\n",
       "\t 4   & 0   & 0   & 0   & 0   & 0   & 0   & 0   & 0   & 0   & ... & 0   & 0   & 0   & 0   & 0   & 0   & 0   & 0   & 1   & 0  \\\\\n",
       "\t 5   & 0   & 0   & 0   & 0   & 0   & 0   & 0   & 0   & 0   & ... & 0   & 0   & 0   & 0   & 0   & 0   & 3   & 0   & 0   & 0  \\\\\n",
       "\\end{tabular}\n"
      ],
      "text/markdown": [
       "\n",
       "| id | iphone | samsunggalaxy | sonyxperia | nokialumina | htcphone | ios | googleandroid | iphonecampos | samsungcampos | ... | samsungperunc | sonyperunc | nokiaperunc | htcperunc | iosperpos | googleperpos | iosperneg | googleperneg | iosperunc | googleperunc |\n",
       "|---|---|---|---|---|---|---|---|---|---|---|---|---|---|---|---|---|---|---|---|---|\n",
       "| 0   | 0   | 0   | 0   | 0   | 0   | 1   | 0   | 0   | 0   | ... | 0   | 0   | 0   | 0   | 0   | 0   | 0   | 0   | 0   | 0   |\n",
       "| 1   | 0   | 0   | 0   | 0   | 0   | 1   | 0   | 0   | 0   | ... | 0   | 0   | 0   | 0   | 0   | 0   | 0   | 0   | 0   | 0   |\n",
       "| 2   | 0   | 0   | 0   | 0   | 0   | 0   | 0   | 0   | 0   | ... | 0   | 0   | 0   | 0   | 1   | 1   | 0   | 0   | 0   | 0   |\n",
       "| 3   | 0   | 0   | 0   | 0   | 0   | 0   | 0   | 0   | 0   | ... | 0   | 0   | 0   | 0   | 0   | 0   | 0   | 0   | 0   | 0   |\n",
       "| 4   | 0   | 0   | 0   | 0   | 0   | 0   | 0   | 0   | 0   | ... | 0   | 0   | 0   | 0   | 0   | 0   | 0   | 0   | 1   | 0   |\n",
       "| 5   | 0   | 0   | 0   | 0   | 0   | 0   | 0   | 0   | 0   | ... | 0   | 0   | 0   | 0   | 0   | 0   | 3   | 0   | 0   | 0   |\n",
       "\n"
      ],
      "text/plain": [
       "  id iphone samsunggalaxy sonyxperia nokialumina htcphone ios googleandroid\n",
       "1 0  0      0             0          0           0        1   0            \n",
       "2 1  0      0             0          0           0        1   0            \n",
       "3 2  0      0             0          0           0        0   0            \n",
       "4 3  0      0             0          0           0        0   0            \n",
       "5 4  0      0             0          0           0        0   0            \n",
       "6 5  0      0             0          0           0        0   0            \n",
       "  iphonecampos samsungcampos ... samsungperunc sonyperunc nokiaperunc htcperunc\n",
       "1 0            0             ... 0             0          0           0        \n",
       "2 0            0             ... 0             0          0           0        \n",
       "3 0            0             ... 0             0          0           0        \n",
       "4 0            0             ... 0             0          0           0        \n",
       "5 0            0             ... 0             0          0           0        \n",
       "6 0            0             ... 0             0          0           0        \n",
       "  iosperpos googleperpos iosperneg googleperneg iosperunc googleperunc\n",
       "1 0         0            0         0            0         0           \n",
       "2 0         0            0         0            0         0           \n",
       "3 1         1            0         0            0         0           \n",
       "4 0         0            0         0            0         0           \n",
       "5 0         0            0         0            1         0           \n",
       "6 0         0            3         0            0         0           "
      ]
     },
     "metadata": {},
     "output_type": "display_data"
    }
   ],
   "source": [
    "head(LargeMatrix)"
   ]
  },
  {
   "cell_type": "markdown",
   "metadata": {},
   "source": [
    "### Feature Selection "
   ]
  },
  {
   "cell_type": "code",
   "execution_count": 7,
   "metadata": {},
   "outputs": [],
   "source": [
    "# Setting Iphone_Train data as data frame\n",
    "Iphone_Train.df <- as.data.frame(Iphone_Train)"
   ]
  },
  {
   "cell_type": "code",
   "execution_count": 8,
   "metadata": {},
   "outputs": [],
   "source": [
    "# Finding Near Zero Variances\n",
    "nzv <- nearZeroVar(Iphone_Train.df , saveMetrics = FALSE)   "
   ]
  },
  {
   "cell_type": "code",
   "execution_count": 9,
   "metadata": {},
   "outputs": [],
   "source": [
    "# Creating a new data set without near zero variance\n",
    "Iphone_No_NZV <- Iphone_Train.df[ , -nzv ]"
   ]
  },
  {
   "cell_type": "code",
   "execution_count": 10,
   "metadata": {},
   "outputs": [
    {
     "data": {
      "image/png": "[encoded data removed]",
      "text/plain": [
       "Plot with title \"\""
      ]
     },
     "metadata": {},
     "output_type": "display_data"
    }
   ],
   "source": [
    "# Checking the correlation coefficient of Data set ####\n",
    "Iphone_No_NZV.correlation <- cor(Iphone_No_NZV)\n",
    "Iphone_No_NZV.correlation.plot <- corrplot(Iphone_No_NZV.correlation, \n",
    "                                           method = \"number\", \n",
    "                                           type = \"upper\",\n",
    "                                           tl.cex = 0.6,   \n",
    "                                           number.cex = 0.6\n",
    "                                          )"
   ]
  },
  {
   "cell_type": "markdown",
   "metadata": {},
   "source": [
    "### Matching the columns of LargeMatrix with SmallMatrix"
   ]
  },
  {
   "cell_type": "code",
   "execution_count": 11,
   "metadata": {},
   "outputs": [],
   "source": [
    "# Setting Large Matrix as data frame\n",
    "LargeMatrix <- as.data.frame(LargeMatrix)"
   ]
  },
  {
   "cell_type": "code",
   "execution_count": 12,
   "metadata": {},
   "outputs": [],
   "source": [
    "# Preprocessing data for matching\n",
    "Iphone_No_NZV_ForMatch  <- Iphone_No_NZV\n",
    "Iphone_No_NZV_ForMatch$iphonesentiment <- NULL "
   ]
  },
  {
   "cell_type": "code",
   "execution_count": 13,
   "metadata": {},
   "outputs": [],
   "source": [
    "# Matching the columns of LargeMatrix with Small Matrix\n",
    "LargeMatrix_Iphone_Match <- LargeMatrix[ , match(colnames(Iphone_No_NZV_ForMatch), \n",
    "                                                 colnames(LargeMatrix)\n",
    "                                                )\n",
    "                                       ]"
   ]
  },
  {
   "cell_type": "markdown",
   "metadata": {},
   "source": [
    "### Modeling"
   ]
  },
  {
   "cell_type": "code",
   "execution_count": 14,
   "metadata": {},
   "outputs": [],
   "source": [
    "# Changing Data type\n",
    "Iphone_No_NZV$iphonesentiment <- as.factor(Iphone_No_NZV$iphonesentiment) "
   ]
  },
  {
   "cell_type": "code",
   "execution_count": 15,
   "metadata": {},
   "outputs": [],
   "source": [
    "# Sampling the training data set\n",
    "set.seed(123)\n",
    "Iphone_No_NZV_Sample <- Iphone_No_NZV[sample(1:nrow(Iphone_No_NZV), \n",
    "                                             nrow(Iphone_No_NZV), \n",
    "                                             replace = FALSE\n",
    "                                            ),\n",
    "                                     ]"
   ]
  },
  {
   "cell_type": "code",
   "execution_count": 16,
   "metadata": {},
   "outputs": [],
   "source": [
    "# Splitting Data into Training and Testing Data set\n",
    "inTraining <- createDataPartition(Iphone_No_NZV_Sample$iphonesentiment, \n",
    "                                  p = .7, \n",
    "                                  list = FALSE \n",
    "                                 )\n",
    "training <- Iphone_No_NZV_Sample[inTraining, ]\n",
    "testing <- Iphone_No_NZV_Sample[-inTraining, ]"
   ]
  },
  {
   "cell_type": "code",
   "execution_count": 17,
   "metadata": {},
   "outputs": [],
   "source": [
    "# fixing the connetion\n",
    "registerDoSEQ()"
   ]
  },
  {
   "cell_type": "code",
   "execution_count": 18,
   "metadata": {},
   "outputs": [],
   "source": [
    "# Setting cross validation within training set\n",
    "fitControl <- trainControl(method = \"repeatedcv\", \n",
    "                           number = 10, \n",
    "                           repeats = 1\n",
    "                          )"
   ]
  },
  {
   "cell_type": "code",
   "execution_count": 19,
   "metadata": {},
   "outputs": [],
   "source": [
    "# Modeling with RandomForest\n",
    "rfGrid <- expand.grid(mtry=c(2))\n",
    "rfFitModel_Iphone <- train(iphonesentiment~.,\n",
    "                           data = training,\n",
    "                           method = \"rf\",\n",
    "                           trControl = fitControl,\n",
    "                           tuneGrid = rfGrid\n",
    "                          )"
   ]
  },
  {
   "cell_type": "markdown",
   "metadata": {},
   "source": [
    "### Prediction of Iphone sentiment "
   ]
  },
  {
   "cell_type": "code",
   "execution_count": 20,
   "metadata": {},
   "outputs": [],
   "source": [
    "# Prediction within SmallMatrix\n",
    "predictionIphone_SmallMatrix <- predict(rfFitModel_Iphone, testing)"
   ]
  },
  {
   "cell_type": "code",
   "execution_count": 21,
   "metadata": {},
   "outputs": [],
   "source": [
    "# Changing data types\n",
    "predictionIphone_SmallMatrix <- as.factor(predictionIphone_SmallMatrix)\n",
    "testing$iphonesentiment <- as.factor(testing$iphonesentiment)"
   ]
  },
  {
   "cell_type": "code",
   "execution_count": 22,
   "metadata": {},
   "outputs": [
    {
     "data": {
      "text/html": [
       "<dl class=dl-horizontal>\n",
       "\t<dt>Accuracy</dt>\n",
       "\t\t<dd>0.755012853470437</dd>\n",
       "\t<dt>Kappa</dt>\n",
       "\t\t<dd>0.514488774361049</dd>\n",
       "</dl>\n"
      ],
      "text/latex": [
       "\\begin{description*}\n",
       "\\item[Accuracy] 0.755012853470437\n",
       "\\item[Kappa] 0.514488774361049\n",
       "\\end{description*}\n"
      ],
      "text/markdown": [
       "Accuracy\n",
       ":   0.755012853470437Kappa\n",
       ":   0.514488774361049\n",
       "\n"
      ],
      "text/plain": [
       " Accuracy     Kappa \n",
       "0.7550129 0.5144888 "
      ]
     },
     "metadata": {},
     "output_type": "display_data"
    }
   ],
   "source": [
    "# Checking the accuracy\n",
    "postResample(predictionIphone_SmallMatrix, testing$iphonesentiment)"
   ]
  },
  {
   "cell_type": "code",
   "execution_count": 23,
   "metadata": {},
   "outputs": [],
   "source": [
    "# Prediction with LargeMatrix\n",
    "PredictionIphone_LargeMatrix <- predict(rfFitModel_Iphone, LargeMatrix_Iphone_Match)"
   ]
  },
  {
   "cell_type": "markdown",
   "metadata": {},
   "source": [
    "### Visualization"
   ]
  },
  {
   "cell_type": "code",
   "execution_count": 25,
   "metadata": {},
   "outputs": [],
   "source": [
    "# Creating Matrix to conbined prediction based on LargeMatrix and SmallMatrix\n",
    "PredictionIphone_LargeMatrix <- as.matrix(PredictionIphone_LargeMatrix)\n",
    "IphonesentimentSmall <- as.matrix(Iphone_No_NZV$iphonesentiment)"
   ]
  },
  {
   "cell_type": "code",
   "execution_count": 26,
   "metadata": {},
   "outputs": [],
   "source": [
    "# Combining Matrix \n",
    "CombinedIphoneSent <- rbind(PredictionIphone_LargeMatrix, IphonesentimentSmall)"
   ]
  },
  {
   "cell_type": "code",
   "execution_count": 27,
   "metadata": {},
   "outputs": [],
   "source": [
    "# Changing the data frame for visualization\n",
    "CombinedIphoneSent <- as.data.frame(CombinedIphoneSent)"
   ]
  },
  {
   "cell_type": "code",
   "execution_count": 28,
   "metadata": {},
   "outputs": [],
   "source": [
    "# Changing the name of the columns\n",
    "colnames(CombinedIphoneSent) <- c(\"Iphonesentiment\")"
   ]
  },
  {
   "cell_type": "code",
   "execution_count": 29,
   "metadata": {},
   "outputs": [],
   "source": [
    "# Drawing a bargraph\n",
    "BargraphIphoneSent <- ggplot(CombinedIphoneSent, aes(x = Iphonesentiment, binwidth = 5,  \n",
    "                                                main = \"Histogram for Age\", \n",
    "                                                xlab = \"Age\",  \n",
    "                                                fill=I(\"#00AFBB\"), \n",
    "                                                col=I(\"#0072B2\")\n",
    "                                               )\n",
    "                        ) + geom_bar()"
   ]
  },
  {
   "cell_type": "code",
   "execution_count": 30,
   "metadata": {},
   "outputs": [
    {
     "data": {
      "image/png": "[encoded data removed]",
      "text/plain": [
       "plot without title"
      ]
     },
     "metadata": {},
     "output_type": "display_data"
    }
   ],
   "source": [
    "BargraphIphoneSent"
   ]
  },
  {
   "cell_type": "markdown",
   "metadata": {},
   "source": [
    "## Sentiment Analysis towards Galaxy"
   ]
  },
  {
   "cell_type": "code",
   "execution_count": 32,
   "metadata": {},
   "outputs": [],
   "source": [
    "# Reading Small Matrix (Train data) for Galaxy ####\n",
    "RawData_Galaxy <- read.csv(\"C:/Users/spxt6/OneDrive/Dokumente/R_projects/Test.Proj/AWS/galaxy_smallmatrix_labeled_8d.csv\",\n",
    "                          TRUE,\n",
    "                          sep =\",\"\n",
    "                         )\n",
    "Galaxy_Train <- RawData_Galaxy"
   ]
  },
  {
   "cell_type": "code",
   "execution_count": 60,
   "metadata": {},
   "outputs": [
    {
     "data": {
      "text/html": [
       "<table>\n",
       "<thead><tr><th scope=col>iphone</th><th scope=col>samsunggalaxy</th><th scope=col>sonyxperia</th><th scope=col>nokialumina</th><th scope=col>htcphone</th><th scope=col>ios</th><th scope=col>googleandroid</th><th scope=col>iphonecampos</th><th scope=col>samsungcampos</th><th scope=col>sonycampos</th><th scope=col>...</th><th scope=col>sonyperunc</th><th scope=col>nokiaperunc</th><th scope=col>htcperunc</th><th scope=col>iosperpos</th><th scope=col>googleperpos</th><th scope=col>iosperneg</th><th scope=col>googleperneg</th><th scope=col>iosperunc</th><th scope=col>googleperunc</th><th scope=col>galaxysentiment</th></tr></thead>\n",
       "<tbody>\n",
       "\t<tr><td> 1 </td><td>0  </td><td>0  </td><td>0  </td><td>0  </td><td>0  </td><td>0  </td><td>0  </td><td>0  </td><td>0  </td><td>...</td><td>0  </td><td>0  </td><td>0  </td><td>0  </td><td>0  </td><td>0  </td><td>0  </td><td>0  </td><td>0  </td><td>0  </td></tr>\n",
       "\t<tr><td> 1 </td><td>0  </td><td>0  </td><td>0  </td><td>0  </td><td>0  </td><td>0  </td><td>0  </td><td>0  </td><td>0  </td><td>...</td><td>0  </td><td>0  </td><td>0  </td><td>0  </td><td>0  </td><td>0  </td><td>0  </td><td>0  </td><td>0  </td><td>0  </td></tr>\n",
       "\t<tr><td> 1 </td><td>0  </td><td>0  </td><td>0  </td><td>0  </td><td>0  </td><td>0  </td><td>0  </td><td>0  </td><td>0  </td><td>...</td><td>0  </td><td>0  </td><td>0  </td><td>0  </td><td>0  </td><td>0  </td><td>0  </td><td>0  </td><td>0  </td><td>0  </td></tr>\n",
       "\t<tr><td> 1 </td><td>0  </td><td>0  </td><td>0  </td><td>0  </td><td>0  </td><td>0  </td><td>0  </td><td>0  </td><td>0  </td><td>...</td><td>0  </td><td>0  </td><td>0  </td><td>0  </td><td>0  </td><td>0  </td><td>0  </td><td>0  </td><td>0  </td><td>0  </td></tr>\n",
       "\t<tr><td> 1 </td><td>0  </td><td>0  </td><td>0  </td><td>0  </td><td>0  </td><td>0  </td><td>0  </td><td>0  </td><td>0  </td><td>...</td><td>0  </td><td>0  </td><td>0  </td><td>0  </td><td>0  </td><td>0  </td><td>0  </td><td>0  </td><td>0  </td><td>0  </td></tr>\n",
       "\t<tr><td>41 </td><td>0  </td><td>0  </td><td>0  </td><td>0  </td><td>6  </td><td>0  </td><td>1  </td><td>0  </td><td>0  </td><td>...</td><td>0  </td><td>0  </td><td>0  </td><td>0  </td><td>0  </td><td>0  </td><td>0  </td><td>0  </td><td>0  </td><td>4  </td></tr>\n",
       "</tbody>\n",
       "</table>\n"
      ],
      "text/latex": [
       "\\begin{tabular}{r|lllllllllllllllllllllllllllllllllllllllllllllllllllllllllll}\n",
       " iphone & samsunggalaxy & sonyxperia & nokialumina & htcphone & ios & googleandroid & iphonecampos & samsungcampos & sonycampos & ... & sonyperunc & nokiaperunc & htcperunc & iosperpos & googleperpos & iosperneg & googleperneg & iosperunc & googleperunc & galaxysentiment\\\\\n",
       "\\hline\n",
       "\t  1  & 0   & 0   & 0   & 0   & 0   & 0   & 0   & 0   & 0   & ... & 0   & 0   & 0   & 0   & 0   & 0   & 0   & 0   & 0   & 0  \\\\\n",
       "\t  1  & 0   & 0   & 0   & 0   & 0   & 0   & 0   & 0   & 0   & ... & 0   & 0   & 0   & 0   & 0   & 0   & 0   & 0   & 0   & 0  \\\\\n",
       "\t  1  & 0   & 0   & 0   & 0   & 0   & 0   & 0   & 0   & 0   & ... & 0   & 0   & 0   & 0   & 0   & 0   & 0   & 0   & 0   & 0  \\\\\n",
       "\t  1  & 0   & 0   & 0   & 0   & 0   & 0   & 0   & 0   & 0   & ... & 0   & 0   & 0   & 0   & 0   & 0   & 0   & 0   & 0   & 0  \\\\\n",
       "\t  1  & 0   & 0   & 0   & 0   & 0   & 0   & 0   & 0   & 0   & ... & 0   & 0   & 0   & 0   & 0   & 0   & 0   & 0   & 0   & 0  \\\\\n",
       "\t 41  & 0   & 0   & 0   & 0   & 6   & 0   & 1   & 0   & 0   & ... & 0   & 0   & 0   & 0   & 0   & 0   & 0   & 0   & 0   & 4  \\\\\n",
       "\\end{tabular}\n"
      ],
      "text/markdown": [
       "\n",
       "| iphone | samsunggalaxy | sonyxperia | nokialumina | htcphone | ios | googleandroid | iphonecampos | samsungcampos | sonycampos | ... | sonyperunc | nokiaperunc | htcperunc | iosperpos | googleperpos | iosperneg | googleperneg | iosperunc | googleperunc | galaxysentiment |\n",
       "|---|---|---|---|---|---|---|---|---|---|---|---|---|---|---|---|---|---|---|---|---|\n",
       "|  1  | 0   | 0   | 0   | 0   | 0   | 0   | 0   | 0   | 0   | ... | 0   | 0   | 0   | 0   | 0   | 0   | 0   | 0   | 0   | 0   |\n",
       "|  1  | 0   | 0   | 0   | 0   | 0   | 0   | 0   | 0   | 0   | ... | 0   | 0   | 0   | 0   | 0   | 0   | 0   | 0   | 0   | 0   |\n",
       "|  1  | 0   | 0   | 0   | 0   | 0   | 0   | 0   | 0   | 0   | ... | 0   | 0   | 0   | 0   | 0   | 0   | 0   | 0   | 0   | 0   |\n",
       "|  1  | 0   | 0   | 0   | 0   | 0   | 0   | 0   | 0   | 0   | ... | 0   | 0   | 0   | 0   | 0   | 0   | 0   | 0   | 0   | 0   |\n",
       "|  1  | 0   | 0   | 0   | 0   | 0   | 0   | 0   | 0   | 0   | ... | 0   | 0   | 0   | 0   | 0   | 0   | 0   | 0   | 0   | 0   |\n",
       "| 41  | 0   | 0   | 0   | 0   | 6   | 0   | 1   | 0   | 0   | ... | 0   | 0   | 0   | 0   | 0   | 0   | 0   | 0   | 0   | 4   |\n",
       "\n"
      ],
      "text/plain": [
       "  iphone samsunggalaxy sonyxperia nokialumina htcphone ios googleandroid\n",
       "1  1     0             0          0           0        0   0            \n",
       "2  1     0             0          0           0        0   0            \n",
       "3  1     0             0          0           0        0   0            \n",
       "4  1     0             0          0           0        0   0            \n",
       "5  1     0             0          0           0        0   0            \n",
       "6 41     0             0          0           0        6   0            \n",
       "  iphonecampos samsungcampos sonycampos ... sonyperunc nokiaperunc htcperunc\n",
       "1 0            0             0          ... 0          0           0        \n",
       "2 0            0             0          ... 0          0           0        \n",
       "3 0            0             0          ... 0          0           0        \n",
       "4 0            0             0          ... 0          0           0        \n",
       "5 0            0             0          ... 0          0           0        \n",
       "6 1            0             0          ... 0          0           0        \n",
       "  iosperpos googleperpos iosperneg googleperneg iosperunc googleperunc\n",
       "1 0         0            0         0            0         0           \n",
       "2 0         0            0         0            0         0           \n",
       "3 0         0            0         0            0         0           \n",
       "4 0         0            0         0            0         0           \n",
       "5 0         0            0         0            0         0           \n",
       "6 0         0            0         0            0         0           \n",
       "  galaxysentiment\n",
       "1 0              \n",
       "2 0              \n",
       "3 0              \n",
       "4 0              \n",
       "5 0              \n",
       "6 4              "
      ]
     },
     "metadata": {},
     "output_type": "display_data"
    }
   ],
   "source": [
    "head(Galaxy_Train)"
   ]
  },
  {
   "cell_type": "code",
   "execution_count": 33,
   "metadata": {},
   "outputs": [],
   "source": [
    "# Reading Large Matrix (Validation data) for Galaxy ####\n",
    "RawData_LargeMatrix <- read.csv(\"C:/Users/spxt6/OneDrive/Dokumente/R_projects/Test.Proj/AWS/LargeMatrix.csv\", TRUE, sep =\",\")\n",
    "LargeMatrix <- RawData_LargeMatrix"
   ]
  },
  {
   "cell_type": "code",
   "execution_count": 61,
   "metadata": {},
   "outputs": [
    {
     "data": {
      "text/html": [
       "<table>\n",
       "<thead><tr><th scope=col>id</th><th scope=col>iphone</th><th scope=col>samsunggalaxy</th><th scope=col>sonyxperia</th><th scope=col>nokialumina</th><th scope=col>htcphone</th><th scope=col>ios</th><th scope=col>googleandroid</th><th scope=col>iphonecampos</th><th scope=col>samsungcampos</th><th scope=col>...</th><th scope=col>samsungperunc</th><th scope=col>sonyperunc</th><th scope=col>nokiaperunc</th><th scope=col>htcperunc</th><th scope=col>iosperpos</th><th scope=col>googleperpos</th><th scope=col>iosperneg</th><th scope=col>googleperneg</th><th scope=col>iosperunc</th><th scope=col>googleperunc</th></tr></thead>\n",
       "<tbody>\n",
       "\t<tr><td>0  </td><td>0  </td><td>0  </td><td>0  </td><td>0  </td><td>0  </td><td>1  </td><td>0  </td><td>0  </td><td>0  </td><td>...</td><td>0  </td><td>0  </td><td>0  </td><td>0  </td><td>0  </td><td>0  </td><td>0  </td><td>0  </td><td>0  </td><td>0  </td></tr>\n",
       "\t<tr><td>1  </td><td>0  </td><td>0  </td><td>0  </td><td>0  </td><td>0  </td><td>1  </td><td>0  </td><td>0  </td><td>0  </td><td>...</td><td>0  </td><td>0  </td><td>0  </td><td>0  </td><td>0  </td><td>0  </td><td>0  </td><td>0  </td><td>0  </td><td>0  </td></tr>\n",
       "\t<tr><td>2  </td><td>0  </td><td>0  </td><td>0  </td><td>0  </td><td>0  </td><td>0  </td><td>0  </td><td>0  </td><td>0  </td><td>...</td><td>0  </td><td>0  </td><td>0  </td><td>0  </td><td>1  </td><td>1  </td><td>0  </td><td>0  </td><td>0  </td><td>0  </td></tr>\n",
       "\t<tr><td>3  </td><td>0  </td><td>0  </td><td>0  </td><td>0  </td><td>0  </td><td>0  </td><td>0  </td><td>0  </td><td>0  </td><td>...</td><td>0  </td><td>0  </td><td>0  </td><td>0  </td><td>0  </td><td>0  </td><td>0  </td><td>0  </td><td>0  </td><td>0  </td></tr>\n",
       "\t<tr><td>4  </td><td>0  </td><td>0  </td><td>0  </td><td>0  </td><td>0  </td><td>0  </td><td>0  </td><td>0  </td><td>0  </td><td>...</td><td>0  </td><td>0  </td><td>0  </td><td>0  </td><td>0  </td><td>0  </td><td>0  </td><td>0  </td><td>1  </td><td>0  </td></tr>\n",
       "\t<tr><td>5  </td><td>0  </td><td>0  </td><td>0  </td><td>0  </td><td>0  </td><td>0  </td><td>0  </td><td>0  </td><td>0  </td><td>...</td><td>0  </td><td>0  </td><td>0  </td><td>0  </td><td>0  </td><td>0  </td><td>3  </td><td>0  </td><td>0  </td><td>0  </td></tr>\n",
       "</tbody>\n",
       "</table>\n"
      ],
      "text/latex": [
       "\\begin{tabular}{r|lllllllllllllllllllllllllllllllllllllllllllllllllllllllllll}\n",
       " id & iphone & samsunggalaxy & sonyxperia & nokialumina & htcphone & ios & googleandroid & iphonecampos & samsungcampos & ... & samsungperunc & sonyperunc & nokiaperunc & htcperunc & iosperpos & googleperpos & iosperneg & googleperneg & iosperunc & googleperunc\\\\\n",
       "\\hline\n",
       "\t 0   & 0   & 0   & 0   & 0   & 0   & 1   & 0   & 0   & 0   & ... & 0   & 0   & 0   & 0   & 0   & 0   & 0   & 0   & 0   & 0  \\\\\n",
       "\t 1   & 0   & 0   & 0   & 0   & 0   & 1   & 0   & 0   & 0   & ... & 0   & 0   & 0   & 0   & 0   & 0   & 0   & 0   & 0   & 0  \\\\\n",
       "\t 2   & 0   & 0   & 0   & 0   & 0   & 0   & 0   & 0   & 0   & ... & 0   & 0   & 0   & 0   & 1   & 1   & 0   & 0   & 0   & 0  \\\\\n",
       "\t 3   & 0   & 0   & 0   & 0   & 0   & 0   & 0   & 0   & 0   & ... & 0   & 0   & 0   & 0   & 0   & 0   & 0   & 0   & 0   & 0  \\\\\n",
       "\t 4   & 0   & 0   & 0   & 0   & 0   & 0   & 0   & 0   & 0   & ... & 0   & 0   & 0   & 0   & 0   & 0   & 0   & 0   & 1   & 0  \\\\\n",
       "\t 5   & 0   & 0   & 0   & 0   & 0   & 0   & 0   & 0   & 0   & ... & 0   & 0   & 0   & 0   & 0   & 0   & 3   & 0   & 0   & 0  \\\\\n",
       "\\end{tabular}\n"
      ],
      "text/markdown": [
       "\n",
       "| id | iphone | samsunggalaxy | sonyxperia | nokialumina | htcphone | ios | googleandroid | iphonecampos | samsungcampos | ... | samsungperunc | sonyperunc | nokiaperunc | htcperunc | iosperpos | googleperpos | iosperneg | googleperneg | iosperunc | googleperunc |\n",
       "|---|---|---|---|---|---|---|---|---|---|---|---|---|---|---|---|---|---|---|---|---|\n",
       "| 0   | 0   | 0   | 0   | 0   | 0   | 1   | 0   | 0   | 0   | ... | 0   | 0   | 0   | 0   | 0   | 0   | 0   | 0   | 0   | 0   |\n",
       "| 1   | 0   | 0   | 0   | 0   | 0   | 1   | 0   | 0   | 0   | ... | 0   | 0   | 0   | 0   | 0   | 0   | 0   | 0   | 0   | 0   |\n",
       "| 2   | 0   | 0   | 0   | 0   | 0   | 0   | 0   | 0   | 0   | ... | 0   | 0   | 0   | 0   | 1   | 1   | 0   | 0   | 0   | 0   |\n",
       "| 3   | 0   | 0   | 0   | 0   | 0   | 0   | 0   | 0   | 0   | ... | 0   | 0   | 0   | 0   | 0   | 0   | 0   | 0   | 0   | 0   |\n",
       "| 4   | 0   | 0   | 0   | 0   | 0   | 0   | 0   | 0   | 0   | ... | 0   | 0   | 0   | 0   | 0   | 0   | 0   | 0   | 1   | 0   |\n",
       "| 5   | 0   | 0   | 0   | 0   | 0   | 0   | 0   | 0   | 0   | ... | 0   | 0   | 0   | 0   | 0   | 0   | 3   | 0   | 0   | 0   |\n",
       "\n"
      ],
      "text/plain": [
       "  id iphone samsunggalaxy sonyxperia nokialumina htcphone ios googleandroid\n",
       "1 0  0      0             0          0           0        1   0            \n",
       "2 1  0      0             0          0           0        1   0            \n",
       "3 2  0      0             0          0           0        0   0            \n",
       "4 3  0      0             0          0           0        0   0            \n",
       "5 4  0      0             0          0           0        0   0            \n",
       "6 5  0      0             0          0           0        0   0            \n",
       "  iphonecampos samsungcampos ... samsungperunc sonyperunc nokiaperunc htcperunc\n",
       "1 0            0             ... 0             0          0           0        \n",
       "2 0            0             ... 0             0          0           0        \n",
       "3 0            0             ... 0             0          0           0        \n",
       "4 0            0             ... 0             0          0           0        \n",
       "5 0            0             ... 0             0          0           0        \n",
       "6 0            0             ... 0             0          0           0        \n",
       "  iosperpos googleperpos iosperneg googleperneg iosperunc googleperunc\n",
       "1 0         0            0         0            0         0           \n",
       "2 0         0            0         0            0         0           \n",
       "3 1         1            0         0            0         0           \n",
       "4 0         0            0         0            0         0           \n",
       "5 0         0            0         0            1         0           \n",
       "6 0         0            3         0            0         0           "
      ]
     },
     "metadata": {},
     "output_type": "display_data"
    }
   ],
   "source": [
    "head(LargeMatrix)"
   ]
  },
  {
   "cell_type": "markdown",
   "metadata": {},
   "source": [
    "### Feature Selection"
   ]
  },
  {
   "cell_type": "code",
   "execution_count": 34,
   "metadata": {},
   "outputs": [],
   "source": [
    "# Setting Galaxy_Train data as data frame\n",
    "Galaxy_Train.df <- as.data.frame(Galaxy_Train)"
   ]
  },
  {
   "cell_type": "code",
   "execution_count": 35,
   "metadata": {},
   "outputs": [],
   "source": [
    "# Finding Near Zero Variances\n",
    "nzv <- nearZeroVar(Galaxy_Train.df, saveMetrics = FALSE)"
   ]
  },
  {
   "cell_type": "code",
   "execution_count": 36,
   "metadata": {},
   "outputs": [],
   "source": [
    "# Creating a new data set without near zero variance\n",
    "Galaxy_No_NZV <- Galaxy_Train.df[,-nzv]"
   ]
  },
  {
   "cell_type": "code",
   "execution_count": 37,
   "metadata": {},
   "outputs": [
    {
     "data": {
      "image/png": "[encoded data removed]",
      "text/plain": [
       "Plot with title \"\""
      ]
     },
     "metadata": {},
     "output_type": "display_data"
    }
   ],
   "source": [
    "# Checking the correlation coefficient of Data set ####\n",
    "Galaxy_No_NZV.correlation <- cor(Galaxy_No_NZV)\n",
    "Galaxy_No_NZV.correlation.plot <- corrplot(Galaxy_No_NZV.correlation, \n",
    "                                           method = \"number\", \n",
    "                                           type = \"upper\",\n",
    "                                           tl.cex = 0.6,   \n",
    "                                           number.cex = 0.6\n",
    "                                          )"
   ]
  },
  {
   "cell_type": "markdown",
   "metadata": {},
   "source": [
    "### Matching the columns of LargeMatrix with SmallMatrix "
   ]
  },
  {
   "cell_type": "code",
   "execution_count": 38,
   "metadata": {},
   "outputs": [],
   "source": [
    "# Setting Large Matrix as data frame\n",
    "LargeMatrix <- as.data.frame(LargeMatrix)"
   ]
  },
  {
   "cell_type": "code",
   "execution_count": 39,
   "metadata": {},
   "outputs": [],
   "source": [
    "# Preprocessing data for matching\n",
    "Galaxy_No_NZV_ForMatch <- Galaxy_No_NZV\n",
    "Galaxy_No_NZV_ForMatch$galaxysentiment <- NULL"
   ]
  },
  {
   "cell_type": "code",
   "execution_count": 40,
   "metadata": {},
   "outputs": [],
   "source": [
    "# Matching the columns of LargeMatrix and SmallMatrix\n",
    "LargeMatrix_Galaxy_Match <- LargeMatrix[ , match(colnames(Galaxy_No_NZV_ForMatch), \n",
    "                                                 colnames(LargeMatrix)\n",
    "                                                )\n",
    "                                       ]"
   ]
  },
  {
   "cell_type": "markdown",
   "metadata": {},
   "source": [
    "### Modeling"
   ]
  },
  {
   "cell_type": "code",
   "execution_count": 42,
   "metadata": {},
   "outputs": [],
   "source": [
    "# Changing Data type\n",
    "Galaxy_No_NZV$galaxysentiment <- as.factor(Galaxy_No_NZV$galaxysentiment)"
   ]
  },
  {
   "cell_type": "code",
   "execution_count": 43,
   "metadata": {},
   "outputs": [],
   "source": [
    "# Sampling training data set\n",
    "set.seed(123)\n",
    "Galaxy_No_NZV_Sample <- Galaxy_No_NZV[sample(1:nrow(Galaxy_No_NZV), \n",
    "                                             nrow(Galaxy_No_NZV),\n",
    "                                             replace=FALSE\n",
    "                                            ),\n",
    "                                     ]"
   ]
  },
  {
   "cell_type": "code",
   "execution_count": 44,
   "metadata": {},
   "outputs": [],
   "source": [
    "# Splitting Data into Training and Testing Data set\n",
    "inTraining <- createDataPartition(Galaxy_No_NZV_Sample$galaxysentiment, \n",
    "                                  p = .7, \n",
    "                                  list = FALSE \n",
    "                                 )\n",
    "training <- Galaxy_No_NZV_Sample[inTraining, ]\n",
    "testing <- Galaxy_No_NZV_Sample[-inTraining, ]"
   ]
  },
  {
   "cell_type": "code",
   "execution_count": 45,
   "metadata": {},
   "outputs": [],
   "source": [
    "# fix the connetion\n",
    "registerDoSEQ()"
   ]
  },
  {
   "cell_type": "code",
   "execution_count": 46,
   "metadata": {},
   "outputs": [],
   "source": [
    "# Setting cross validation within training set\n",
    "fitControl <- trainControl(method = \"repeatedcv\", \n",
    "                           number = 10, \n",
    "                           repeats = 1\n",
    "                          )"
   ]
  },
  {
   "cell_type": "code",
   "execution_count": 47,
   "metadata": {},
   "outputs": [],
   "source": [
    "# Modeling with RandomForest ####\n",
    "rfGrid <- expand.grid(mtry = c(2))\n",
    "rfFitModel_Galaxy <- train(galaxysentiment~ .,\n",
    "                           data = training,\n",
    "                           method = \"rf\",\n",
    "                           trControl = fitControl,\n",
    "                           tuneGrid = rfGrid\n",
    "                          )"
   ]
  },
  {
   "cell_type": "markdown",
   "metadata": {},
   "source": [
    "### Prediction of Galaxy sentiment"
   ]
  },
  {
   "cell_type": "code",
   "execution_count": 48,
   "metadata": {},
   "outputs": [],
   "source": [
    "# Prediction within SmallMatrix\n",
    "PredictionGalaxy_SmallMatrix <- predict(rfFitModel_Galaxy, testing)"
   ]
  },
  {
   "cell_type": "code",
   "execution_count": 49,
   "metadata": {},
   "outputs": [],
   "source": [
    "# Changing data types\n",
    "PredictionGalaxy_SmallMatrix <- as.factor(PredictionGalaxy_SmallMatrix)\n",
    "testing$galaxysentiment <- as.factor(testing$galaxysentiment)"
   ]
  },
  {
   "cell_type": "code",
   "execution_count": 50,
   "metadata": {},
   "outputs": [
    {
     "data": {
      "text/html": [
       "<dl class=dl-horizontal>\n",
       "\t<dt>Accuracy</dt>\n",
       "\t\t<dd>0.776549241450244</dd>\n",
       "\t<dt>Kappa</dt>\n",
       "\t\t<dd>0.546431947767632</dd>\n",
       "</dl>\n"
      ],
      "text/latex": [
       "\\begin{description*}\n",
       "\\item[Accuracy] 0.776549241450244\n",
       "\\item[Kappa] 0.546431947767632\n",
       "\\end{description*}\n"
      ],
      "text/markdown": [
       "Accuracy\n",
       ":   0.776549241450244Kappa\n",
       ":   0.546431947767632\n",
       "\n"
      ],
      "text/plain": [
       " Accuracy     Kappa \n",
       "0.7765492 0.5464319 "
      ]
     },
     "metadata": {},
     "output_type": "display_data"
    }
   ],
   "source": [
    "# Checking the accuracy\n",
    "postResample(PredictionGalaxy_SmallMatrix, testing$galaxysentiment)"
   ]
  },
  {
   "cell_type": "code",
   "execution_count": 51,
   "metadata": {},
   "outputs": [],
   "source": [
    "# Predition with LargeMatrix\n",
    "PredictionGalaxy_LargeMatrix <- predict(rfFitModel_Galaxy, LargeMatrix_Galaxy_Match)"
   ]
  },
  {
   "cell_type": "markdown",
   "metadata": {},
   "source": [
    "### Visualization"
   ]
  },
  {
   "cell_type": "code",
   "execution_count": 52,
   "metadata": {},
   "outputs": [],
   "source": [
    "# Creating Matrix to combine prediction based on LargeMatrix and SmallMatrix\n",
    "PredictionGalaxy_LargeMatrix <- as.matrix(PredictionGalaxy_LargeMatrix)\n",
    "GalaxysentimentSmall <- as.matrix(Galaxy_No_NZV$galaxysentiment)"
   ]
  },
  {
   "cell_type": "code",
   "execution_count": 53,
   "metadata": {},
   "outputs": [],
   "source": [
    "# Combining Matrix\n",
    "CombinedGalaxySent <- rbind(PredictionGalaxy_LargeMatrix, GalaxysentimentSmall)"
   ]
  },
  {
   "cell_type": "code",
   "execution_count": 54,
   "metadata": {},
   "outputs": [],
   "source": [
    "# Changing the data frame for Visualization\n",
    "CombinedGalaxySent <- as.data.frame(CombinedGalaxySent)"
   ]
  },
  {
   "cell_type": "code",
   "execution_count": 55,
   "metadata": {},
   "outputs": [],
   "source": [
    "# Changing the name of the columns\n",
    "colnames(CombinedGalaxySent) <- c(\"Galaxysentiment\")"
   ]
  },
  {
   "cell_type": "code",
   "execution_count": 56,
   "metadata": {},
   "outputs": [],
   "source": [
    "# Drawing a bargraph\n",
    "bargraphGalaxy <- ggplot(CombinedGalaxySent, aes(x = Galaxysentiment, binwidth = 5,  \n",
    "                                                      main = \"Histogram for Age\", \n",
    "                                                      xlab = \"Age\",  \n",
    "                                                      fill=I(\"#FFDB6D\"), \n",
    "                                                      col=I(\"#C4961A\")\n",
    "                                                 )\n",
    "                         ) + geom_bar()"
   ]
  },
  {
   "cell_type": "code",
   "execution_count": 57,
   "metadata": {},
   "outputs": [
    {
     "data": {
      "image/png": "[encoded data removed]",
      "text/plain": [
       "plot without title"
      ]
     },
     "metadata": {},
     "output_type": "display_data"
    }
   ],
   "source": [
    "bargraphGalaxy"
   ]
  }
 ],
 "metadata": {
  "kernelspec": {
   "display_name": "R",
   "language": "R",
   "name": "ir"
  },
  "language_info": {
   "codemirror_mode": "r",
   "file_extension": ".r",
   "mimetype": "text/x-r-source",
   "name": "R",
   "pygments_lexer": "r",
   "version": "3.6.0"
  }
 },
 "nbformat": 4,
 "nbformat_minor": 2
}
